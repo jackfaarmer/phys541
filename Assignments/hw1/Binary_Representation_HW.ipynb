{
 "cells": [
  {
   "cell_type": "markdown",
   "source": [
    "## Binary Floating Point Representation\n",
    "### Jack Farmer, 6 September 2023"
   ],
   "metadata": {
    "collapsed": false
   },
   "id": "8f7a164dfe264adc"
  },
  {
   "cell_type": "code",
   "execution_count": 1,
   "outputs": [],
   "source": [
    "def convert_int_to_binary(num):\n",
    "    res = \"\"\n",
    "\n",
    "    while num > 0:\n",
    "        digit = num % 2\n",
    "        # print(num, digit)\n",
    "        res = str(digit) + res\n",
    "        num = int(num / 2)\n",
    "\n",
    "    return res"
   ],
   "metadata": {
    "collapsed": false,
    "ExecuteTime": {
     "end_time": "2023-09-06T15:05:40.701833Z",
     "start_time": "2023-09-06T15:05:40.694845Z"
    }
   },
   "id": "initial_id"
  },
  {
   "cell_type": "code",
   "execution_count": 2,
   "outputs": [
    {
     "data": {
      "text/plain": "'100000000000'"
     },
     "execution_count": 2,
     "metadata": {},
     "output_type": "execute_result"
    }
   ],
   "source": [
    "convert_int_to_binary(2048)"
   ],
   "metadata": {
    "collapsed": false,
    "ExecuteTime": {
     "end_time": "2023-09-06T15:05:40.711513Z",
     "start_time": "2023-09-06T15:05:40.700740Z"
    }
   },
   "id": "e521d624426e3e89"
  },
  {
   "cell_type": "code",
   "execution_count": 3,
   "outputs": [],
   "source": [
    "def convert_fraction_to_binary(num, precision=40):\n",
    "    res = \"\"\n",
    "    iter_count = 0  \n",
    "    while num > 0 and precision > 0:\n",
    "        num = num * 2\n",
    "        if num >= 1:\n",
    "            res += \"1\"\n",
    "            num -= 1\n",
    "        else:\n",
    "            res += \"0\"\n",
    "        precision -= 1\n",
    "        #print(f\"num = {num}  res = {res}  iter_count = {iter_count}    precision = {precision}\")\n",
    "        iter_count += 1\n",
    "    return res"
   ],
   "metadata": {
    "collapsed": false,
    "ExecuteTime": {
     "end_time": "2023-09-06T15:05:40.711801Z",
     "start_time": "2023-09-06T15:05:40.705272Z"
    }
   },
   "id": "a5e07a28e317547a"
  },
  {
   "cell_type": "code",
   "execution_count": 4,
   "outputs": [
    {
     "data": {
      "text/plain": "'001'"
     },
     "execution_count": 4,
     "metadata": {},
     "output_type": "execute_result"
    }
   ],
   "source": [
    "convert_fraction_to_binary(0.125,40)"
   ],
   "metadata": {
    "collapsed": false,
    "ExecuteTime": {
     "end_time": "2023-09-06T15:05:40.715287Z",
     "start_time": "2023-09-06T15:05:40.708959Z"
    }
   },
   "id": "4750800221bd0ecc"
  },
  {
   "cell_type": "code",
   "execution_count": 5,
   "outputs": [],
   "source": [
    "def get_fp_binary_representation(n):\n",
    "    # specify 48 decimal places of precision ... given that we will take 23 for the mantissa, this means we will have far more than we need\n",
    "    p = 60\n",
    "\n",
    "    # Step 1:  split the number into two parts - both strings\n",
    "    front, back = str(n).split('.')\n",
    "\n",
    "    # Step 2:  convert the part in front of the decimal to binary ... take the sign into account\n",
    "    if int(front) < 0:\n",
    "        sign = \"-\"\n",
    "        i_front = -int(front)\n",
    "    else:\n",
    "        sign = \"\"\n",
    "        i_front = int(front)\n",
    "\n",
    "    if i_front == 0:\n",
    "        front_bin = \"0\"\n",
    "    else:\n",
    "        front_bin = convert_int_to_binary(i_front)\n",
    "\n",
    "    # Step 3:  convert the part after the decimal to binary\n",
    "    divisor = 10**len(back)\n",
    "    back_bin = convert_fraction_to_binary(float(back)/divisor, p)\n",
    "\n",
    "    # Step 4:  add the strings together and print the result\n",
    "    bin_result = sign + front_bin + \".\" + back_bin\n",
    "    print(f\"The binary representation of the {n} is {bin_result}\")\n",
    "\n",
    "    # Step 5:  Determine the exponent and mantissa\n",
    "    if front_bin == \"0\":\n",
    "        exponent = 0\n",
    "        keep_going = True\n",
    "        while keep_going:\n",
    "            # print (back_bin[-exponent],exponent)\n",
    "            if back_bin[-exponent] == \"1\":\n",
    "                keep_going = False\n",
    "                exponent = exponent + 1\n",
    "            exponent = exponent - 1\n",
    "        exponent = exponent - 1\n",
    "\n",
    "        # print(exponent)\n",
    "        back_bin = back_bin[-exponent:]\n",
    "        mantissa_truncated = back_bin\n",
    "    else:\n",
    "        exponent = len(front_bin)-1\n",
    "        mantissa = front_bin[1:] + back_bin\n",
    "        mantissa_truncated = mantissa[0:52]\n",
    "\n",
    "    true_result = sign + \"1.\" + mantissa_truncated + \" x 2^(\" + str(exponent) + \")\"\n",
    "    print(f\"The binary scientific notation representation is {true_result}\")\n",
    "\n",
    "    # Step 6:  Convert to 32-bit floating point representation\n",
    "    if int(front) < 0:\n",
    "        bit1 = \"1\"\n",
    "    else:\n",
    "        bit1 = \"0\"\n",
    "\n",
    "    exp = int(exponent)+2047\n",
    "    exp_binary_rep = convert_int_to_binary(exp)\n",
    "    if len(exp_binary_rep) < 8:\n",
    "        exp_binary_rep = \"0\" + exp_binary_rep\n",
    "\n",
    "    if len(mantissa_truncated) < 52:\n",
    "        mantissa_truncated = mantissa_truncated + (23-len(mantissa_truncated))*\"0\"\n",
    "\n",
    "    if len(mantissa_truncated) > 52:\n",
    "        mantissa_truncated = mantissa_truncated[0:52]\n",
    "\n",
    "    res = bit1 + \"|\" + exp_binary_rep + \"|\" + mantissa_truncated\n",
    "    return res"
   ],
   "metadata": {
    "collapsed": false,
    "ExecuteTime": {
     "end_time": "2023-09-06T15:05:40.716682Z",
     "start_time": "2023-09-06T15:05:40.714925Z"
    }
   },
   "id": "3f8b8eac887c3449"
  },
  {
   "cell_type": "code",
   "execution_count": 6,
   "outputs": [
    {
     "name": "stdout",
     "output_type": "stream",
     "text": [
      "The binary representation of the 3.14159265 is 11.0010010000111111011010100111100100011010100111100001\n",
      "The binary scientific notation representation is 1.1001001000011111101101010011110010001101010011110000 x 2^(1)\n",
      "The IEEE 754 representation is 0|100000000000|1001001000011111101101010011110010001101010011110000\n"
     ]
    }
   ],
   "source": [
    "fp_num = 3.14159265\n",
    "result = get_fp_binary_representation(fp_num)\n",
    "print(f\"The IEEE 754 representation is {result}\")"
   ],
   "metadata": {
    "collapsed": false,
    "ExecuteTime": {
     "end_time": "2023-09-06T15:05:40.725251Z",
     "start_time": "2023-09-06T15:05:40.717506Z"
    }
   },
   "id": "2ca20192c00a4c39"
  }
 ],
 "metadata": {
  "kernelspec": {
   "display_name": "Python 3",
   "language": "python",
   "name": "python3"
  },
  "language_info": {
   "codemirror_mode": {
    "name": "ipython",
    "version": 2
   },
   "file_extension": ".py",
   "mimetype": "text/x-python",
   "name": "python",
   "nbconvert_exporter": "python",
   "pygments_lexer": "ipython2",
   "version": "2.7.6"
  }
 },
 "nbformat": 4,
 "nbformat_minor": 5
}
