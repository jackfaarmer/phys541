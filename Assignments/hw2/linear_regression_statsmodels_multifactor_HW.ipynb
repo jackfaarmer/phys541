{
 "cells": [
  {
   "cell_type": "markdown",
   "source": [
    "# Linear Regression Statsmodels Multifactor HW\n",
    "### Jack Farmer, 18 September 2023"
   ],
   "metadata": {
    "collapsed": false
   },
   "id": "3546266546d20972"
  },
  {
   "cell_type": "code",
   "execution_count": 7,
   "outputs": [],
   "source": [
    "import matplotlib.pyplot as plt\n",
    "import pandas as pd\n",
    "import statsmodels.formula.api as smf\n",
    "\n",
    "advert = pd.read_csv('advertising.csv')\n"
   ],
   "metadata": {
    "collapsed": false,
    "ExecuteTime": {
     "end_time": "2023-09-19T19:24:25.231497Z",
     "start_time": "2023-09-19T19:24:25.219180Z"
    }
   },
   "id": "initial_id"
  },
  {
   "cell_type": "code",
   "execution_count": 8,
   "outputs": [],
   "source": [
    "modelf = smf.ols('Sales ~ TV + Radio + Newspaper + TV*Radio + TV*Newspaper + Radio*Newspaper + I(TV**2) + I(Radio**2) + I(Newspaper**2)', data=advert)\n",
    "results = modelf.fit()\n",
    "\n",
    "sales_pred = results.predict()\n",
    "\n",
    "advert['Sales_Final'] = sales_pred\n",
    "advert['Sales_Final_Resid'] = advert['Sales'] - sales_pred"
   ],
   "metadata": {
    "collapsed": false,
    "ExecuteTime": {
     "end_time": "2023-09-19T19:24:25.249656Z",
     "start_time": "2023-09-19T19:24:25.234283Z"
    }
   },
   "id": "7572b9c85779ce9d"
  },
  {
   "cell_type": "code",
   "execution_count": 9,
   "outputs": [
    {
     "data": {
      "text/plain": "(array([ 8., 10.,  6., 11., 11., 12.,  8., 10., 14.,  7., 12., 22., 17.,\n        13., 10.,  7., 11.,  2.,  7.,  2.]),\n array([ 5.37295219,  6.39772355,  7.42249491,  8.44726627,  9.47203763,\n        10.49680899, 11.52158035, 12.54635171, 13.57112307, 14.59589443,\n        15.62066579, 16.64543715, 17.67020851, 18.69497987, 19.71975123,\n        20.74452259, 21.76929395, 22.79406531, 23.81883667, 24.84360803,\n        25.86837939]),\n <BarContainer object of 20 artists>)"
     },
     "execution_count": 9,
     "metadata": {},
     "output_type": "execute_result"
    },
    {
     "data": {
      "text/plain": "<Figure size 640x480 with 1 Axes>",
      "image/png": "[encoded data removed]"
     },
     "metadata": {},
     "output_type": "display_data"
    }
   ],
   "source": [
    "plt.hist(advert['Sales_Final'], bins=20)\n"
   ],
   "metadata": {
    "collapsed": false,
    "ExecuteTime": {
     "end_time": "2023-09-19T19:24:25.423702Z",
     "start_time": "2023-09-19T19:24:25.254012Z"
    }
   },
   "id": "614bad56140d7f88"
  }
 ],
 "metadata": {
  "kernelspec": {
   "display_name": "Python 3",
   "language": "python",
   "name": "python3"
  },
  "language_info": {
   "codemirror_mode": {
    "name": "ipython",
    "version": 2
   },
   "file_extension": ".py",
   "mimetype": "text/x-python",
   "name": "python",
   "nbconvert_exporter": "python",
   "pygments_lexer": "ipython2",
   "version": "2.7.6"
  }
 },
 "nbformat": 4,
 "nbformat_minor": 5
}
